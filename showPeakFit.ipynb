{
 "cells": [
  {
   "cell_type": "code",
   "execution_count": 12,
   "metadata": {},
   "outputs": [],
   "source": [
    "# This box deals with importing and defines a few functions.  Do not change.\n",
    "from __future__ import print_function\n",
    "import sys\n",
    "\n",
    "for i in range(len(sys.path))[::-1]:\n",
    "    if 'antid' in sys.path[i]:\n",
    "        sys.path.pop(i)\n",
    "sys.path.insert(0,'/home/ntv/workspace/mantid/release/bin/')\n",
    "sys.path.insert(1,'/SNS/users/ntv/integrate/jupyter_demo/profile_fitting_jupyter/lib/')\n",
    "from IPython.display import display\n",
    "import numpy as np\n",
    "import matplotlib.pyplot as plt\n",
    "%matplotlib inline\n",
    "from mantid.simpleapi import *\n",
    "from ipywidgets import interact, interactive, fixed, interact_manual\n",
    "import ipywidgets as widgets\n",
    "import DemoTools\n",
    "import ICCFitTools as ICCFT\n",
    "import pickle\n",
    "\n",
    "def showModels(x):\n",
    "    plt.figure(num=1,figsize=(10,10));\n",
    "    plt.clf()\n",
    "    vMin = 0\n",
    "    vMax = 0.8*n_events.max()\n",
    "    plt.subplot(1,2,1)\n",
    "    plt.imshow(n_events[:,:,x],vmin=vMin,vmax=vMax)\n",
    "    plt.title('Data')\n",
    "    plt.subplot(1,2,2)\n",
    "    plt.imshow(Y3D1[:,:,x],vmin=vMin,vmax=vMax)\n",
    "    plt.title('Model')\n"
   ]
  },
  {
   "cell_type": "code",
   "execution_count": 9,
   "metadata": {},
   "outputs": [],
   "source": [
    "# These are parameters for fitting.\n",
    "\n",
    "qLow = -5  # Lowest value of q for ConvertToMD \n",
    "qHigh = 5; # Highest value of q for ConvertToMD\n",
    "Q3DFrame='Q_lab' # Either 'Q_lab' or 'Q_sample'; Q_lab recommended if using a strong peaks\n",
    "                 # profile library from a different sample\n",
    "eventFileName = '/SNS/MANDI/IPTS-8776/0/5921/NeXus/MANDI_5921_event.nxs' #Full path to the event nexus file\n",
    "peaksFile = '/SNS/MANDI/shared/ProfileFitting/demo_5921.integrate' #Full path to the ISAW peaks file\n",
    "UBFile = '/SNS/MANDI/shared/ProfileFitting/demo_5921.mat' #Full path to the ISAW UB file\n",
    "strongPeakParamsFile = '/SNS/MANDI/shared/ProfileFitting/strongPeakParams_beta_lac_mut_mbvg.pkl' #Full path to pkl file\n",
    "#strongPeakParamsFile = None\n",
    "moderatorCoefficientsFile = '/SNS/MANDI/shared/ProfileFitting/franz_coefficients_2017.dat' #Full path to pkl file\n",
    "IntensityCutoff = 200 # Minimum number of counts to not force a profile\n",
    "EdgeCutoff = 3 # Pixels within EdgeCutoff from a detector edge will be have a profile forced. Currently for Anger cameras only.\n",
    "FracStop = 0.05 # Fraction of max counts to include in peak selection.\n",
    "MinpplFrac = 0.9 # Min fraction of predicted background level to check\n",
    "MaxpplFrac = 1.1 # Max fraction of predicted background level to check\n",
    "DQMax = 0.25 # Largest total side length (in Angstrom) to consider for profile fitting."
   ]
  },
  {
   "cell_type": "code",
   "execution_count": 10,
   "metadata": {},
   "outputs": [],
   "source": [
    "# Do not edit this cell - only need to run once to load everything\n",
    "event_ws = Load(Filename=eventFileName, OutputWorkspace='event_ws')\n",
    "MDdata = ConvertToMD(InputWorkspace='event_ws',  QDimensions='Q3D', dEAnalysisMode='Elastic',\n",
    "                         Q3DFrames=Q3DFrame, QConversionScales='Q in A^-1',\n",
    "                         MinValues='%f, %f, %f' % (qLow, qLow, qLow), Maxvalues='%f, %f, %f' % (qHigh, qHigh, qHigh), MaxRecursionDepth=10,\n",
    "                         LorentzCorrection=False)\n",
    "peaks_ws = LoadIsawPeaks(Filename=peaksFile, OutputWorkspace='peaks_ws')\n",
    "DemoTools.addInstrumentParameters(peaks_ws) #Temporary\n",
    "LoadIsawUB(InputWorkspace=peaks_ws, Filename=UBFile)\n",
    "UBMatrix = peaks_ws.sample().getOrientedLattice().getUB()\n",
    "dQ = np.abs(ICCFT.getDQFracHKL(UBMatrix, frac=0.5))\n",
    "dQ[dQ>DQMax]=DQMax\n",
    "\n",
    "if strongPeakParamsFile is None:\n",
    "    strongPeakParams = None\n",
    "else:\n",
    "    strongPeakParams = pickle.load(open(strongPeakParamsFile, 'rb'))\n",
    "\n",
    "padeCoefficients = ICCFT.getModeratorCoefficients(moderatorCoefficientsFile)\n",
    "NTheta = peaks_ws.getInstrument().getIntParameter(\"numBinsTheta\")[0]\n",
    "NPhi = peaks_ws.getInstrument().getIntParameter(\"numBinsPhi\")[0]\n",
    "MindtBinWidth = peaks_ws.getInstrument().getNumberParameter(\"minDTBinWidth\")[0]\n",
    "MaxdtBinWidth = peaks_ws.getInstrument().getNumberParameter(\"maxDTBinWidth\")[0]\n",
    "FracHKL = 0.4 # Fraction of HKL to consider for profile fitting.\n",
    "DQPixel = peaks_ws.getInstrument().getNumberParameter(\"DQPixel\")[0]\n",
    "np.warnings.filterwarnings('ignore') # There can be a lot of warnings for bad solutions."
   ]
  },
  {
   "cell_type": "code",
   "execution_count": 13,
   "metadata": {},
   "outputs": [
    {
     "name": "stdout",
     "output_type": "stream",
     "text": [
      "Peak 30: New: 238; Ell: 371\n"
     ]
    },
    {
     "data": {
      "application/vnd.jupyter.widget-view+json": {
       "model_id": "c499d1927bfd46549e83f2b7718f817b",
       "version_major": 2,
       "version_minor": 0
      },
      "text/html": [
       "<p>Failed to display Jupyter Widget of type <code>interactive</code>.</p>\n",
       "<p>\n",
       "  If you're reading this message in Jupyter Notebook or JupyterLab, it may mean\n",
       "  that the widgets JavaScript is still loading. If this message persists, it\n",
       "  likely means that the widgets JavaScript library is either not installed or\n",
       "  not enabled. See the <a href=\"https://ipywidgets.readthedocs.io/en/stable/user_install.html\">Jupyter\n",
       "  Widgets Documentation</a> for setup instructions.\n",
       "</p>\n",
       "<p>\n",
       "  If you're reading this message in another notebook frontend (for example, a static\n",
       "  rendering on GitHub or <a href=\"https://nbviewer.jupyter.org/\">NBViewer</a>),\n",
       "  it may mean that your frontend doesn't currently support widgets.\n",
       "</p>\n"
      ],
      "text/plain": [
       "interactive(children=(IntSlider(value=19, continuous_update=False, description=u'z Slice:', max=42), Output()), _dom_classes=('widget-interact',))"
      ]
     },
     "metadata": {},
     "output_type": "display_data"
    }
   ],
   "source": [
    "reload(DemoTools)\n",
    "DemoTools.addInstrumentParameters(peaks_ws) #Temporary\n",
    "peakToFit = 30 # Which peak from PeaksFile to fit.  User should make sure the peak is in the loaded run.\n",
    "plotSeparateResults = True # True to plot TOF/BVG separately in addition to 3D slices\n",
    "slider, n_events, Y3D1 = DemoTools.showPeakFit(peakToFit, peaks_ws, MDdata, UBMatrix, dQ, \n",
    "                                           padeCoefficients,mindtBinWidth=MindtBinWidth,\n",
    "                                           dQPixel=DQPixel,fracHKL=FracHKL,pplmin_frac=MinpplFrac,\n",
    "                                           pplmax_frac=MaxpplFrac, nTheta=NTheta, nPhi=NPhi,intensityCutoff=IntensityCutoff,\n",
    "                                           edgeCutoff=EdgeCutoff,fracStop=FracStop,plotResults=plotSeparateResults,\n",
    "                                            strongPeakParams=strongPeakParams)\n",
    "interact(showModels, x=slider);"
   ]
  },
  {
   "cell_type": "code",
   "execution_count": null,
   "metadata": {},
   "outputs": [],
   "source": []
  },
  {
   "cell_type": "code",
   "execution_count": null,
   "metadata": {},
   "outputs": [],
   "source": []
  },
  {
   "cell_type": "code",
   "execution_count": null,
   "metadata": {},
   "outputs": [],
   "source": []
  },
  {
   "cell_type": "code",
   "execution_count": null,
   "metadata": {},
   "outputs": [],
   "source": []
  }
 ],
 "metadata": {
  "kernelspec": {
   "display_name": "Python 2",
   "language": "python",
   "name": "python2"
  },
  "language_info": {
   "codemirror_mode": {
    "name": "ipython",
    "version": 2
   },
   "file_extension": ".py",
   "mimetype": "text/x-python",
   "name": "python",
   "nbconvert_exporter": "python",
   "pygments_lexer": "ipython2",
   "version": "2.7.12"
  }
 },
 "nbformat": 4,
 "nbformat_minor": 2
}
